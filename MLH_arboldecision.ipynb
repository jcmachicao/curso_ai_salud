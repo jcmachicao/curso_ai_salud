{
  "nbformat": 4,
  "nbformat_minor": 0,
  "metadata": {
    "colab": {
      "name": "MLH_arboldecision.ipynb",
      "provenance": [],
      "mount_file_id": "1DOcon3WOwAclqfySvcDzCZzmMAUXTgBi",
      "authorship_tag": "ABX9TyN3vAY0M3pIZzvtqcihBTyJ",
      "include_colab_link": true
    },
    "kernelspec": {
      "name": "python3",
      "display_name": "Python 3"
    }
  },
  "cells": [
    {
      "cell_type": "markdown",
      "metadata": {
        "id": "view-in-github",
        "colab_type": "text"
      },
      "source": [
        "<a href=\"https://colab.research.google.com/github/jcmachicao/curso_ai_salud/blob/master/MLH_arboldecision.ipynb\" target=\"_parent\"><img src=\"https://colab.research.google.com/assets/colab-badge.svg\" alt=\"Open In Colab\"/></a>"
      ]
    },
    {
      "cell_type": "markdown",
      "metadata": {
        "id": "yg9Q9HZ7KQxe"
      },
      "source": [
        "#### **Machine Learning for Healthcare**\n",
        "---\n",
        "# **Introducción a Modelos de Clasificación y Predicción**\n",
        "* Autor: José Carlos Machicao\n",
        "* Licencia: [GestioDinámica](http://www.gestiodinamica.com) 2021\n",
        "* Actualizado: 2021_10_11\n"
      ]
    },
    {
      "cell_type": "markdown",
      "metadata": {
        "id": "B26euJKsNP68"
      },
      "source": [
        "## Librerías externas necesarias"
      ]
    },
    {
      "cell_type": "code",
      "metadata": {
        "id": "Szi61mHXNTJ2"
      },
      "source": [
        "import pandas as pd\n",
        "import numpy as np\n",
        "import matplotlib.pyplot as plt\n",
        "import os"
      ],
      "execution_count": 73,
      "outputs": []
    },
    {
      "cell_type": "markdown",
      "metadata": {
        "id": "ASYnymx7NFBg"
      },
      "source": [
        "## Carga de base de datos"
      ]
    },
    {
      "cell_type": "code",
      "metadata": {
        "id": "s1vpFKxaUwqD",
        "colab": {
          "base_uri": "https://localhost:8080/"
        },
        "outputId": "e31ca485-c4a8-4330-8758-4646f79dd665"
      },
      "source": [
        "ruta = 'drive/My Drive/2020 Cursos/2020 AI Salud/Curso ML Salud/'\n",
        "os.listdir(ruta)"
      ],
      "execution_count": 74,
      "outputs": [
        {
          "output_type": "execute_result",
          "data": {
            "text/plain": [
              "['MLH_arboldecision.ipynb', 'ai_salud_ML_002.xlsx']"
            ]
          },
          "metadata": {},
          "execution_count": 74
        }
      ]
    },
    {
      "cell_type": "code",
      "metadata": {
        "id": "NRgAostfKJOR",
        "colab": {
          "base_uri": "https://localhost:8080/",
          "height": 205
        },
        "outputId": "91438bb5-a4e6-4d8a-a514-946061b8b070"
      },
      "source": [
        "data = pd.read_excel(ruta + 'ai_salud_ML_002.xlsx')\n",
        "data = data.drop(['id'], axis=1)\n",
        "data.head()"
      ],
      "execution_count": 75,
      "outputs": [
        {
          "output_type": "execute_result",
          "data": {
            "text/html": [
              "<div>\n",
              "<style scoped>\n",
              "    .dataframe tbody tr th:only-of-type {\n",
              "        vertical-align: middle;\n",
              "    }\n",
              "\n",
              "    .dataframe tbody tr th {\n",
              "        vertical-align: top;\n",
              "    }\n",
              "\n",
              "    .dataframe thead th {\n",
              "        text-align: right;\n",
              "    }\n",
              "</style>\n",
              "<table border=\"1\" class=\"dataframe\">\n",
              "  <thead>\n",
              "    <tr style=\"text-align: right;\">\n",
              "      <th></th>\n",
              "      <th>fiebre</th>\n",
              "      <th>tos</th>\n",
              "      <th>edad</th>\n",
              "      <th>aseo</th>\n",
              "      <th>sexo</th>\n",
              "      <th>patologia</th>\n",
              "    </tr>\n",
              "  </thead>\n",
              "  <tbody>\n",
              "    <tr>\n",
              "      <th>0</th>\n",
              "      <td>Si</td>\n",
              "      <td>No</td>\n",
              "      <td>13</td>\n",
              "      <td>4</td>\n",
              "      <td>F</td>\n",
              "      <td>Negativa</td>\n",
              "    </tr>\n",
              "    <tr>\n",
              "      <th>1</th>\n",
              "      <td>No</td>\n",
              "      <td>No</td>\n",
              "      <td>8</td>\n",
              "      <td>5</td>\n",
              "      <td>F</td>\n",
              "      <td>Negativa</td>\n",
              "    </tr>\n",
              "    <tr>\n",
              "      <th>2</th>\n",
              "      <td>Si</td>\n",
              "      <td>Si</td>\n",
              "      <td>12</td>\n",
              "      <td>2</td>\n",
              "      <td>F</td>\n",
              "      <td>Positiva</td>\n",
              "    </tr>\n",
              "    <tr>\n",
              "      <th>3</th>\n",
              "      <td>No</td>\n",
              "      <td>No</td>\n",
              "      <td>14</td>\n",
              "      <td>3</td>\n",
              "      <td>M</td>\n",
              "      <td>Negativa</td>\n",
              "    </tr>\n",
              "    <tr>\n",
              "      <th>4</th>\n",
              "      <td>Si</td>\n",
              "      <td>Si</td>\n",
              "      <td>14</td>\n",
              "      <td>5</td>\n",
              "      <td>F</td>\n",
              "      <td>Positiva</td>\n",
              "    </tr>\n",
              "  </tbody>\n",
              "</table>\n",
              "</div>"
            ],
            "text/plain": [
              "  fiebre tos  edad  aseo sexo patologia\n",
              "0     Si  No    13     4    F  Negativa\n",
              "1     No  No     8     5    F  Negativa\n",
              "2     Si  Si    12     2    F  Positiva\n",
              "3     No  No    14     3    M  Negativa\n",
              "4     Si  Si    14     5    F  Positiva"
            ]
          },
          "metadata": {},
          "execution_count": 75
        }
      ]
    },
    {
      "cell_type": "markdown",
      "metadata": {
        "id": "nzWFWiwhOZ7I"
      },
      "source": [
        "## Intuición gráfica acerca de la predicción"
      ]
    },
    {
      "cell_type": "code",
      "metadata": {
        "id": "qMuOXvW88QtD",
        "colab": {
          "base_uri": "https://localhost:8080/",
          "height": 299
        },
        "outputId": "baf1baee-7f58-4667-be83-896ba9e411dc"
      },
      "source": [
        "fig, axs = plt.subplots(1, 2, figsize=(10, 4), facecolor='lightblue')\n",
        "#clasificador = 'sexo'\n",
        "clasificador = 'patologia'\n",
        "\n",
        "for j, item in enumerate(data[clasificador].unique()):\n",
        "  #print(j, item)\n",
        "  datax = data[data[clasificador] == item]\n",
        "  #print(datax)\n",
        "  axs[j].hexbin(datax.edad, datax.aseo, gridsize=6)\n",
        "  axs[j].set_xlabel('Edad')\n",
        "  axs[j].set_ylabel('Nivel de Aseo')\n",
        "  axs[j].set_title(item, fontsize=18)\n",
        "\n",
        "plt.show()"
      ],
      "execution_count": 76,
      "outputs": [
        {
          "output_type": "display_data",
          "data": {
            "image/png": "[encoded data removed]",
            "text/plain": [
              "<Figure size 720x288 with 2 Axes>"
            ]
          },
          "metadata": {}
        }
      ]
    },
    {
      "cell_type": "markdown",
      "metadata": {
        "id": "K8ZY_ltIlLaO"
      },
      "source": [
        "## Modelo por Arbol de Decisiones"
      ]
    },
    {
      "cell_type": "code",
      "metadata": {
        "id": "jaIMhBZdnQzf"
      },
      "source": [
        "#@title Librerías Específicas de Modelamiento\n",
        "from sklearn.tree import DecisionTreeClassifier\n",
        "from sklearn.ensemble import RandomForestClassifier, AdaBoostClassifier"
      ],
      "execution_count": 77,
      "outputs": []
    },
    {
      "cell_type": "code",
      "metadata": {
        "id": "pplxDIdmYLK0",
        "colab": {
          "base_uri": "https://localhost:8080/"
        },
        "outputId": "e050f824-2f6c-45d7-c03e-49490048fabf"
      },
      "source": [
        "data.patologia.unique()"
      ],
      "execution_count": 78,
      "outputs": [
        {
          "output_type": "execute_result",
          "data": {
            "text/plain": [
              "array(['Negativa', 'Positiva'], dtype=object)"
            ]
          },
          "metadata": {},
          "execution_count": 78
        }
      ]
    },
    {
      "cell_type": "code",
      "metadata": {
        "id": "r1nAWX4gcv-3",
        "colab": {
          "base_uri": "https://localhost:8080/",
          "height": 205
        },
        "outputId": "7ab27217-3482-4cd1-b096-c01f433c1ea0"
      },
      "source": [
        "data100 = pd.get_dummies(data, drop_first=True)\n",
        "data100.head()"
      ],
      "execution_count": 108,
      "outputs": [
        {
          "output_type": "execute_result",
          "data": {
            "text/html": [
              "<div>\n",
              "<style scoped>\n",
              "    .dataframe tbody tr th:only-of-type {\n",
              "        vertical-align: middle;\n",
              "    }\n",
              "\n",
              "    .dataframe tbody tr th {\n",
              "        vertical-align: top;\n",
              "    }\n",
              "\n",
              "    .dataframe thead th {\n",
              "        text-align: right;\n",
              "    }\n",
              "</style>\n",
              "<table border=\"1\" class=\"dataframe\">\n",
              "  <thead>\n",
              "    <tr style=\"text-align: right;\">\n",
              "      <th></th>\n",
              "      <th>edad</th>\n",
              "      <th>aseo</th>\n",
              "      <th>tipo_pred</th>\n",
              "      <th>tipo_orig</th>\n",
              "      <th>fiebre_Si</th>\n",
              "      <th>tos_Si</th>\n",
              "      <th>sexo_M</th>\n",
              "      <th>patologia_Positiva</th>\n",
              "    </tr>\n",
              "  </thead>\n",
              "  <tbody>\n",
              "    <tr>\n",
              "      <th>0</th>\n",
              "      <td>13</td>\n",
              "      <td>4</td>\n",
              "      <td>0</td>\n",
              "      <td>0</td>\n",
              "      <td>1</td>\n",
              "      <td>0</td>\n",
              "      <td>0</td>\n",
              "      <td>0</td>\n",
              "    </tr>\n",
              "    <tr>\n",
              "      <th>1</th>\n",
              "      <td>8</td>\n",
              "      <td>5</td>\n",
              "      <td>0</td>\n",
              "      <td>0</td>\n",
              "      <td>0</td>\n",
              "      <td>0</td>\n",
              "      <td>0</td>\n",
              "      <td>0</td>\n",
              "    </tr>\n",
              "    <tr>\n",
              "      <th>2</th>\n",
              "      <td>12</td>\n",
              "      <td>2</td>\n",
              "      <td>1</td>\n",
              "      <td>1</td>\n",
              "      <td>1</td>\n",
              "      <td>1</td>\n",
              "      <td>0</td>\n",
              "      <td>1</td>\n",
              "    </tr>\n",
              "    <tr>\n",
              "      <th>3</th>\n",
              "      <td>14</td>\n",
              "      <td>3</td>\n",
              "      <td>0</td>\n",
              "      <td>0</td>\n",
              "      <td>0</td>\n",
              "      <td>0</td>\n",
              "      <td>1</td>\n",
              "      <td>0</td>\n",
              "    </tr>\n",
              "    <tr>\n",
              "      <th>4</th>\n",
              "      <td>14</td>\n",
              "      <td>5</td>\n",
              "      <td>1</td>\n",
              "      <td>1</td>\n",
              "      <td>1</td>\n",
              "      <td>1</td>\n",
              "      <td>0</td>\n",
              "      <td>1</td>\n",
              "    </tr>\n",
              "  </tbody>\n",
              "</table>\n",
              "</div>"
            ],
            "text/plain": [
              "   edad  aseo  tipo_pred  ...  tos_Si  sexo_M  patologia_Positiva\n",
              "0    13     4          0  ...       0       0                   0\n",
              "1     8     5          0  ...       0       0                   0\n",
              "2    12     2          1  ...       1       0                   1\n",
              "3    14     3          0  ...       0       1                   0\n",
              "4    14     5          1  ...       1       0                   1\n",
              "\n",
              "[5 rows x 8 columns]"
            ]
          },
          "metadata": {},
          "execution_count": 108
        }
      ]
    },
    {
      "cell_type": "code",
      "metadata": {
        "id": "vsHIQFEiXf9U"
      },
      "source": [
        "modelo = DecisionTreeClassifier(max_depth=2, random_state=0)"
      ],
      "execution_count": 91,
      "outputs": []
    },
    {
      "cell_type": "code",
      "metadata": {
        "id": "7cRAFqjSfZpn"
      },
      "source": [
        "X = data100.drop(['patologia_Positiva'], axis=1)\n",
        "y = data100.patologia_Positiva"
      ],
      "execution_count": 92,
      "outputs": []
    },
    {
      "cell_type": "code",
      "metadata": {
        "id": "mOYlE9C4dZRi",
        "colab": {
          "base_uri": "https://localhost:8080/"
        },
        "outputId": "c8f50c3d-cc60-4ef5-a22d-71e394d71c14"
      },
      "source": [
        "modelo.fit(X, y)"
      ],
      "execution_count": 93,
      "outputs": [
        {
          "output_type": "execute_result",
          "data": {
            "text/plain": [
              "DecisionTreeClassifier(ccp_alpha=0.0, class_weight=None, criterion='gini',\n",
              "                       max_depth=2, max_features=None, max_leaf_nodes=None,\n",
              "                       min_impurity_decrease=0.0, min_impurity_split=None,\n",
              "                       min_samples_leaf=1, min_samples_split=2,\n",
              "                       min_weight_fraction_leaf=0.0, presort='deprecated',\n",
              "                       random_state=0, splitter='best')"
            ]
          },
          "metadata": {},
          "execution_count": 93
        }
      ]
    },
    {
      "cell_type": "code",
      "metadata": {
        "id": "Gwn1bxekfvmz",
        "colab": {
          "base_uri": "https://localhost:8080/"
        },
        "outputId": "d78311a7-1545-417a-d2da-bae3be6c4709"
      },
      "source": [
        "y_pred = modelo.predict(X)\n",
        "y_pred"
      ],
      "execution_count": 94,
      "outputs": [
        {
          "output_type": "execute_result",
          "data": {
            "text/plain": [
              "array([0, 0, 1, 0, 1, 0, 1, 0, 0, 1, 1, 0, 0, 0, 0, 0, 1, 1, 0, 0, 1, 1,\n",
              "       0, 0, 1, 0, 0, 1, 1, 1], dtype=uint8)"
            ]
          },
          "metadata": {},
          "execution_count": 94
        }
      ]
    },
    {
      "cell_type": "code",
      "metadata": {
        "id": "-4v_BywCg1OE",
        "colab": {
          "base_uri": "https://localhost:8080/",
          "height": 205
        },
        "outputId": "e430ff07-a406-4f61-e9a3-aab2e34a69fc"
      },
      "source": [
        "data['tipo_pred'] = y_pred\n",
        "data['tipo_orig'] = data100.patologia_Positiva\n",
        "data.head()"
      ],
      "execution_count": 95,
      "outputs": [
        {
          "output_type": "execute_result",
          "data": {
            "text/html": [
              "<div>\n",
              "<style scoped>\n",
              "    .dataframe tbody tr th:only-of-type {\n",
              "        vertical-align: middle;\n",
              "    }\n",
              "\n",
              "    .dataframe tbody tr th {\n",
              "        vertical-align: top;\n",
              "    }\n",
              "\n",
              "    .dataframe thead th {\n",
              "        text-align: right;\n",
              "    }\n",
              "</style>\n",
              "<table border=\"1\" class=\"dataframe\">\n",
              "  <thead>\n",
              "    <tr style=\"text-align: right;\">\n",
              "      <th></th>\n",
              "      <th>fiebre</th>\n",
              "      <th>tos</th>\n",
              "      <th>edad</th>\n",
              "      <th>aseo</th>\n",
              "      <th>sexo</th>\n",
              "      <th>patologia</th>\n",
              "      <th>tipo_pred</th>\n",
              "      <th>tipo_orig</th>\n",
              "    </tr>\n",
              "  </thead>\n",
              "  <tbody>\n",
              "    <tr>\n",
              "      <th>0</th>\n",
              "      <td>Si</td>\n",
              "      <td>No</td>\n",
              "      <td>13</td>\n",
              "      <td>4</td>\n",
              "      <td>F</td>\n",
              "      <td>Negativa</td>\n",
              "      <td>0</td>\n",
              "      <td>0</td>\n",
              "    </tr>\n",
              "    <tr>\n",
              "      <th>1</th>\n",
              "      <td>No</td>\n",
              "      <td>No</td>\n",
              "      <td>8</td>\n",
              "      <td>5</td>\n",
              "      <td>F</td>\n",
              "      <td>Negativa</td>\n",
              "      <td>0</td>\n",
              "      <td>0</td>\n",
              "    </tr>\n",
              "    <tr>\n",
              "      <th>2</th>\n",
              "      <td>Si</td>\n",
              "      <td>Si</td>\n",
              "      <td>12</td>\n",
              "      <td>2</td>\n",
              "      <td>F</td>\n",
              "      <td>Positiva</td>\n",
              "      <td>1</td>\n",
              "      <td>1</td>\n",
              "    </tr>\n",
              "    <tr>\n",
              "      <th>3</th>\n",
              "      <td>No</td>\n",
              "      <td>No</td>\n",
              "      <td>14</td>\n",
              "      <td>3</td>\n",
              "      <td>M</td>\n",
              "      <td>Negativa</td>\n",
              "      <td>0</td>\n",
              "      <td>0</td>\n",
              "    </tr>\n",
              "    <tr>\n",
              "      <th>4</th>\n",
              "      <td>Si</td>\n",
              "      <td>Si</td>\n",
              "      <td>14</td>\n",
              "      <td>5</td>\n",
              "      <td>F</td>\n",
              "      <td>Positiva</td>\n",
              "      <td>1</td>\n",
              "      <td>1</td>\n",
              "    </tr>\n",
              "  </tbody>\n",
              "</table>\n",
              "</div>"
            ],
            "text/plain": [
              "  fiebre tos  edad  aseo sexo patologia  tipo_pred  tipo_orig\n",
              "0     Si  No    13     4    F  Negativa          0          0\n",
              "1     No  No     8     5    F  Negativa          0          0\n",
              "2     Si  Si    12     2    F  Positiva          1          1\n",
              "3     No  No    14     3    M  Negativa          0          0\n",
              "4     Si  Si    14     5    F  Positiva          1          1"
            ]
          },
          "metadata": {},
          "execution_count": 95
        }
      ]
    },
    {
      "cell_type": "code",
      "metadata": {
        "colab": {
          "base_uri": "https://localhost:8080/",
          "height": 175
        },
        "id": "ysWxr57VL7_y",
        "outputId": "fd39e071-1fd0-4e6c-8103-440ad64450e3"
      },
      "source": [
        "pd.pivot_table(data[['tipo_pred', 'tipo_orig', 'patologia']], index=['tipo_pred'], columns=['tipo_orig'], aggfunc='count')"
      ],
      "execution_count": 107,
      "outputs": [
        {
          "output_type": "execute_result",
          "data": {
            "text/html": [
              "<div>\n",
              "<style scoped>\n",
              "    .dataframe tbody tr th:only-of-type {\n",
              "        vertical-align: middle;\n",
              "    }\n",
              "\n",
              "    .dataframe tbody tr th {\n",
              "        vertical-align: top;\n",
              "    }\n",
              "\n",
              "    .dataframe thead tr th {\n",
              "        text-align: left;\n",
              "    }\n",
              "\n",
              "    .dataframe thead tr:last-of-type th {\n",
              "        text-align: right;\n",
              "    }\n",
              "</style>\n",
              "<table border=\"1\" class=\"dataframe\">\n",
              "  <thead>\n",
              "    <tr>\n",
              "      <th></th>\n",
              "      <th colspan=\"2\" halign=\"left\">patologia</th>\n",
              "    </tr>\n",
              "    <tr>\n",
              "      <th>tipo_orig</th>\n",
              "      <th>0</th>\n",
              "      <th>1</th>\n",
              "    </tr>\n",
              "    <tr>\n",
              "      <th>tipo_pred</th>\n",
              "      <th></th>\n",
              "      <th></th>\n",
              "    </tr>\n",
              "  </thead>\n",
              "  <tbody>\n",
              "    <tr>\n",
              "      <th>0</th>\n",
              "      <td>15</td>\n",
              "      <td>2</td>\n",
              "    </tr>\n",
              "    <tr>\n",
              "      <th>1</th>\n",
              "      <td>3</td>\n",
              "      <td>10</td>\n",
              "    </tr>\n",
              "  </tbody>\n",
              "</table>\n",
              "</div>"
            ],
            "text/plain": [
              "          patologia    \n",
              "tipo_orig         0   1\n",
              "tipo_pred              \n",
              "0                15   2\n",
              "1                 3  10"
            ]
          },
          "metadata": {},
          "execution_count": 107
        }
      ]
    },
    {
      "cell_type": "code",
      "metadata": {
        "id": "IGfxmB_wkjJD",
        "colab": {
          "base_uri": "https://localhost:8080/",
          "height": 597
        },
        "outputId": "48bdbf11-6438-4d55-9132-3c863acc5ec7"
      },
      "source": [
        "from sklearn.tree import plot_tree\n",
        "plt.figure(figsize=(18,10))\n",
        "plot_tree(modelo, rounded=True, fontsize=12, label='all', filled=True, max_depth=2,\n",
        "          feature_names=X.columns, class_names=['Neg', 'Pos'], \n",
        "          proportion=True)\n",
        "plt.title('Arbol de Decisión Generado por Datos', fontsize=20)\n",
        "plt.show()"
      ],
      "execution_count": 96,
      "outputs": [
        {
          "output_type": "display_data",
          "data": {
            "image/png": "[encoded data removed]",
            "text/plain": [
              "<Figure size 1296x720 with 1 Axes>"
            ]
          },
          "metadata": {
            "needs_background": "light"
          }
        }
      ]
    },
    {
      "cell_type": "code",
      "metadata": {
        "id": "agZiM4ZUlKjv",
        "colab": {
          "base_uri": "https://localhost:8080/",
          "height": 205
        },
        "outputId": "d0d81ba3-b3cd-438d-800e-a8b9f1772f63"
      },
      "source": [
        "X.head()"
      ],
      "execution_count": 59,
      "outputs": [
        {
          "output_type": "execute_result",
          "data": {
            "text/html": [
              "<div>\n",
              "<style scoped>\n",
              "    .dataframe tbody tr th:only-of-type {\n",
              "        vertical-align: middle;\n",
              "    }\n",
              "\n",
              "    .dataframe tbody tr th {\n",
              "        vertical-align: top;\n",
              "    }\n",
              "\n",
              "    .dataframe thead th {\n",
              "        text-align: right;\n",
              "    }\n",
              "</style>\n",
              "<table border=\"1\" class=\"dataframe\">\n",
              "  <thead>\n",
              "    <tr style=\"text-align: right;\">\n",
              "      <th></th>\n",
              "      <th>edad</th>\n",
              "      <th>aseo</th>\n",
              "      <th>fiebre_Si</th>\n",
              "      <th>tos_Si</th>\n",
              "      <th>sexo_M</th>\n",
              "    </tr>\n",
              "  </thead>\n",
              "  <tbody>\n",
              "    <tr>\n",
              "      <th>0</th>\n",
              "      <td>13</td>\n",
              "      <td>4</td>\n",
              "      <td>1</td>\n",
              "      <td>0</td>\n",
              "      <td>0</td>\n",
              "    </tr>\n",
              "    <tr>\n",
              "      <th>1</th>\n",
              "      <td>8</td>\n",
              "      <td>5</td>\n",
              "      <td>0</td>\n",
              "      <td>0</td>\n",
              "      <td>0</td>\n",
              "    </tr>\n",
              "    <tr>\n",
              "      <th>2</th>\n",
              "      <td>12</td>\n",
              "      <td>2</td>\n",
              "      <td>1</td>\n",
              "      <td>1</td>\n",
              "      <td>0</td>\n",
              "    </tr>\n",
              "    <tr>\n",
              "      <th>3</th>\n",
              "      <td>14</td>\n",
              "      <td>3</td>\n",
              "      <td>0</td>\n",
              "      <td>0</td>\n",
              "      <td>1</td>\n",
              "    </tr>\n",
              "    <tr>\n",
              "      <th>4</th>\n",
              "      <td>14</td>\n",
              "      <td>5</td>\n",
              "      <td>1</td>\n",
              "      <td>1</td>\n",
              "      <td>0</td>\n",
              "    </tr>\n",
              "  </tbody>\n",
              "</table>\n",
              "</div>"
            ],
            "text/plain": [
              "   edad  aseo  fiebre_Si  tos_Si  sexo_M\n",
              "0    13     4          1       0       0\n",
              "1     8     5          0       0       0\n",
              "2    12     2          1       1       0\n",
              "3    14     3          0       0       1\n",
              "4    14     5          1       1       0"
            ]
          },
          "metadata": {},
          "execution_count": 59
        }
      ]
    },
    {
      "cell_type": "markdown",
      "metadata": {
        "id": "d9an8Yaq397d"
      },
      "source": [
        "## Ejemplo\n",
        "* Digamos que llega una declaración de un adulto masculino de 40 años a las 5 de la mañana registrado por un efectivo en la calle.\n",
        "* También una mujer de 65 años declara de manera personal en una comisaría hacia las 4pm.\n"
      ]
    },
    {
      "cell_type": "code",
      "metadata": {
        "id": "weacdVFN4Sus",
        "colab": {
          "base_uri": "https://localhost:8080/"
        },
        "outputId": "6a453b70-8e2a-4792-b02d-61b070ce3573"
      },
      "source": [
        "X_ts = np.array([\n",
        "                 [11, 2, 1, 1, 0], \n",
        "                 [11, 2, 1, 1, 1]\n",
        "                 ])\n",
        "X_ts"
      ],
      "execution_count": 62,
      "outputs": [
        {
          "output_type": "execute_result",
          "data": {
            "text/plain": [
              "array([[11,  2,  1,  1,  0],\n",
              "       [11,  2,  1,  1,  1]])"
            ]
          },
          "metadata": {},
          "execution_count": 62
        }
      ]
    },
    {
      "cell_type": "code",
      "metadata": {
        "id": "nSVVDrQ237eo",
        "colab": {
          "base_uri": "https://localhost:8080/"
        },
        "outputId": "f338bf91-eea2-4286-cdda-1e4a058f2db4"
      },
      "source": [
        "y_ts = modelo.predict(X_ts)\n",
        "y_ts"
      ],
      "execution_count": 63,
      "outputs": [
        {
          "output_type": "execute_result",
          "data": {
            "text/plain": [
              "array([1, 0], dtype=uint8)"
            ]
          },
          "metadata": {},
          "execution_count": 63
        }
      ]
    }
  ]
}