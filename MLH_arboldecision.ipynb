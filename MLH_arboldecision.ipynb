{
  "nbformat": 4,
  "nbformat_minor": 0,
  "metadata": {
    "colab": {
      "name": "MLH_arboldecision.ipynb",
      "provenance": [],
      "mount_file_id": "1DOcon3WOwAclqfySvcDzCZzmMAUXTgBi",
      "authorship_tag": "ABX9TyN0Iy0x33XDZIXpOrfmO3Zs",
      "include_colab_link": true
    },
    "kernelspec": {
      "name": "python3",
      "display_name": "Python 3"
    }
  },
  "cells": [
    {
      "cell_type": "markdown",
      "metadata": {
        "id": "view-in-github",
        "colab_type": "text"
      },
      "source": [
        "<a href=\"https://colab.research.google.com/github/jcmachicao/curso_ai_salud/blob/master/MLH_arboldecision.ipynb\" target=\"_parent\"><img src=\"https://colab.research.google.com/assets/colab-badge.svg\" alt=\"Open In Colab\"/></a>"
      ]
    },
    {
      "cell_type": "markdown",
      "metadata": {
        "id": "yg9Q9HZ7KQxe"
      },
      "source": [
        "#### **Machine Learning for Healthcare**\n",
        "---\n",
        "# **Introducción a Modelos de Clasificación y Predicción**\n",
        "* Autor: José Carlos Machicao\n",
        "* Licencia: [GestioDinámica](http://www.gestiodinamica.com) 2021\n",
        "* Actualizado: 2021_10_11\n"
      ]
    },
    {
      "cell_type": "markdown",
      "metadata": {
        "id": "B26euJKsNP68"
      },
      "source": [
        "## Librerías externas necesarias"
      ]
    },
    {
      "cell_type": "code",
      "metadata": {
        "id": "Szi61mHXNTJ2"
      },
      "source": [
        "import pandas as pd\n",
        "import numpy as np\n",
        "import matplotlib.pyplot as plt\n",
        "import os"
      ],
      "execution_count": 2,
      "outputs": []
    },
    {
      "cell_type": "markdown",
      "metadata": {
        "id": "ASYnymx7NFBg"
      },
      "source": [
        "## Carga de base de datos"
      ]
    },
    {
      "cell_type": "code",
      "metadata": {
        "id": "s1vpFKxaUwqD",
        "colab": {
          "base_uri": "https://localhost:8080/"
        },
        "outputId": "a13103b0-449f-40f7-d4e5-3e72f421d7c8"
      },
      "source": [
        "ruta = 'drive/My Drive/2020 Cursos/2020 AI Salud/Curso ML Salud/'\n",
        "os.listdir(ruta)"
      ],
      "execution_count": 7,
      "outputs": [
        {
          "output_type": "execute_result",
          "data": {
            "text/plain": [
              "['ai_salud_ML_002.xlsx']"
            ]
          },
          "metadata": {},
          "execution_count": 7
        }
      ]
    },
    {
      "cell_type": "code",
      "metadata": {
        "id": "NRgAostfKJOR",
        "colab": {
          "base_uri": "https://localhost:8080/",
          "height": 205
        },
        "outputId": "dac02da1-f855-4802-889b-f81d0d4dbf4d"
      },
      "source": [
        "data = pd.read_excel(ruta + 'ai_salud_ML_002.xlsx')\n",
        "data = data.drop(['id'], axis=1)\n",
        "data.head()"
      ],
      "execution_count": 48,
      "outputs": [
        {
          "output_type": "execute_result",
          "data": {
            "text/html": [
              "<div>\n",
              "<style scoped>\n",
              "    .dataframe tbody tr th:only-of-type {\n",
              "        vertical-align: middle;\n",
              "    }\n",
              "\n",
              "    .dataframe tbody tr th {\n",
              "        vertical-align: top;\n",
              "    }\n",
              "\n",
              "    .dataframe thead th {\n",
              "        text-align: right;\n",
              "    }\n",
              "</style>\n",
              "<table border=\"1\" class=\"dataframe\">\n",
              "  <thead>\n",
              "    <tr style=\"text-align: right;\">\n",
              "      <th></th>\n",
              "      <th>fiebre</th>\n",
              "      <th>tos</th>\n",
              "      <th>edad</th>\n",
              "      <th>aseo</th>\n",
              "      <th>sexo</th>\n",
              "      <th>patologia</th>\n",
              "    </tr>\n",
              "  </thead>\n",
              "  <tbody>\n",
              "    <tr>\n",
              "      <th>0</th>\n",
              "      <td>Si</td>\n",
              "      <td>No</td>\n",
              "      <td>13</td>\n",
              "      <td>4</td>\n",
              "      <td>F</td>\n",
              "      <td>Negativa</td>\n",
              "    </tr>\n",
              "    <tr>\n",
              "      <th>1</th>\n",
              "      <td>No</td>\n",
              "      <td>No</td>\n",
              "      <td>8</td>\n",
              "      <td>5</td>\n",
              "      <td>F</td>\n",
              "      <td>Negativa</td>\n",
              "    </tr>\n",
              "    <tr>\n",
              "      <th>2</th>\n",
              "      <td>Si</td>\n",
              "      <td>Si</td>\n",
              "      <td>12</td>\n",
              "      <td>2</td>\n",
              "      <td>F</td>\n",
              "      <td>Positiva</td>\n",
              "    </tr>\n",
              "    <tr>\n",
              "      <th>3</th>\n",
              "      <td>No</td>\n",
              "      <td>No</td>\n",
              "      <td>14</td>\n",
              "      <td>3</td>\n",
              "      <td>M</td>\n",
              "      <td>Negativa</td>\n",
              "    </tr>\n",
              "    <tr>\n",
              "      <th>4</th>\n",
              "      <td>Si</td>\n",
              "      <td>Si</td>\n",
              "      <td>14</td>\n",
              "      <td>5</td>\n",
              "      <td>F</td>\n",
              "      <td>Positiva</td>\n",
              "    </tr>\n",
              "  </tbody>\n",
              "</table>\n",
              "</div>"
            ],
            "text/plain": [
              "  fiebre tos  edad  aseo sexo patologia\n",
              "0     Si  No    13     4    F  Negativa\n",
              "1     No  No     8     5    F  Negativa\n",
              "2     Si  Si    12     2    F  Positiva\n",
              "3     No  No    14     3    M  Negativa\n",
              "4     Si  Si    14     5    F  Positiva"
            ]
          },
          "metadata": {},
          "execution_count": 48
        }
      ]
    },
    {
      "cell_type": "markdown",
      "metadata": {
        "id": "nzWFWiwhOZ7I"
      },
      "source": [
        "## Intuición gráfica acerca de la predicción"
      ]
    },
    {
      "cell_type": "code",
      "metadata": {
        "id": "qMuOXvW88QtD",
        "colab": {
          "base_uri": "https://localhost:8080/",
          "height": 299
        },
        "outputId": "150748e6-57d5-45f4-dd50-a05c44549423"
      },
      "source": [
        "fig, axs = plt.subplots(1, 2, figsize=(10, 4), facecolor='lightblue')\n",
        "clasificador = 'sexo'\n",
        "\n",
        "for j, item in enumerate(data[clasificador].unique()):\n",
        "  #print(j, item)\n",
        "  datax = data[data[clasificador] == item]\n",
        "  #print(datax)\n",
        "  axs[j].hexbin(datax.edad, datax.aseo, gridsize=8)\n",
        "  axs[j].set_xlabel('Edad')\n",
        "  axs[j].set_ylabel('Nivel de Aseo')\n",
        "  axs[j].set_title(item, fontsize=18)\n",
        "\n",
        "plt.show()"
      ],
      "execution_count": 49,
      "outputs": [
        {
          "output_type": "display_data",
          "data": {
            "image/png": "[encoded data removed]",
            "text/plain": [
              "<Figure size 720x288 with 2 Axes>"
            ]
          },
          "metadata": {}
        }
      ]
    },
    {
      "cell_type": "markdown",
      "metadata": {
        "id": "K8ZY_ltIlLaO"
      },
      "source": [
        "## Modelo por Arbol de Decisiones"
      ]
    },
    {
      "cell_type": "code",
      "metadata": {
        "id": "jaIMhBZdnQzf"
      },
      "source": [
        "#@title Librerías Específicas de Modelamiento\n",
        "from sklearn.tree import DecisionTreeClassifier\n",
        "from sklearn.ensemble import RandomForestClassifier, AdaBoostClassifier"
      ],
      "execution_count": 50,
      "outputs": []
    },
    {
      "cell_type": "code",
      "metadata": {
        "id": "pplxDIdmYLK0",
        "colab": {
          "base_uri": "https://localhost:8080/"
        },
        "outputId": "112b6289-1ec6-47af-fda9-8f49bd70ac54"
      },
      "source": [
        "data.patologia.unique()"
      ],
      "execution_count": 51,
      "outputs": [
        {
          "output_type": "execute_result",
          "data": {
            "text/plain": [
              "array(['Negativa', 'Positiva'], dtype=object)"
            ]
          },
          "metadata": {},
          "execution_count": 51
        }
      ]
    },
    {
      "cell_type": "code",
      "metadata": {
        "id": "r1nAWX4gcv-3",
        "colab": {
          "base_uri": "https://localhost:8080/",
          "height": 675
        },
        "outputId": "9741da89-092a-4692-88ea-c68797257bf3"
      },
      "source": [
        "data100 = pd.get_dummies(data, drop_first=True)\n",
        "data100"
      ],
      "execution_count": 52,
      "outputs": [
        {
          "output_type": "execute_result",
          "data": {
            "text/html": [
              "<div>\n",
              "<style scoped>\n",
              "    .dataframe tbody tr th:only-of-type {\n",
              "        vertical-align: middle;\n",
              "    }\n",
              "\n",
              "    .dataframe tbody tr th {\n",
              "        vertical-align: top;\n",
              "    }\n",
              "\n",
              "    .dataframe thead th {\n",
              "        text-align: right;\n",
              "    }\n",
              "</style>\n",
              "<table border=\"1\" class=\"dataframe\">\n",
              "  <thead>\n",
              "    <tr style=\"text-align: right;\">\n",
              "      <th></th>\n",
              "      <th>edad</th>\n",
              "      <th>aseo</th>\n",
              "      <th>fiebre_Si</th>\n",
              "      <th>tos_Si</th>\n",
              "      <th>sexo_M</th>\n",
              "      <th>patologia_Positiva</th>\n",
              "    </tr>\n",
              "  </thead>\n",
              "  <tbody>\n",
              "    <tr>\n",
              "      <th>0</th>\n",
              "      <td>13</td>\n",
              "      <td>4</td>\n",
              "      <td>1</td>\n",
              "      <td>0</td>\n",
              "      <td>0</td>\n",
              "      <td>0</td>\n",
              "    </tr>\n",
              "    <tr>\n",
              "      <th>1</th>\n",
              "      <td>8</td>\n",
              "      <td>5</td>\n",
              "      <td>0</td>\n",
              "      <td>0</td>\n",
              "      <td>0</td>\n",
              "      <td>0</td>\n",
              "    </tr>\n",
              "    <tr>\n",
              "      <th>2</th>\n",
              "      <td>12</td>\n",
              "      <td>2</td>\n",
              "      <td>1</td>\n",
              "      <td>1</td>\n",
              "      <td>0</td>\n",
              "      <td>1</td>\n",
              "    </tr>\n",
              "    <tr>\n",
              "      <th>3</th>\n",
              "      <td>14</td>\n",
              "      <td>3</td>\n",
              "      <td>0</td>\n",
              "      <td>0</td>\n",
              "      <td>1</td>\n",
              "      <td>0</td>\n",
              "    </tr>\n",
              "    <tr>\n",
              "      <th>4</th>\n",
              "      <td>14</td>\n",
              "      <td>5</td>\n",
              "      <td>1</td>\n",
              "      <td>1</td>\n",
              "      <td>0</td>\n",
              "      <td>1</td>\n",
              "    </tr>\n",
              "    <tr>\n",
              "      <th>5</th>\n",
              "      <td>10</td>\n",
              "      <td>3</td>\n",
              "      <td>0</td>\n",
              "      <td>0</td>\n",
              "      <td>1</td>\n",
              "      <td>0</td>\n",
              "    </tr>\n",
              "    <tr>\n",
              "      <th>6</th>\n",
              "      <td>11</td>\n",
              "      <td>3</td>\n",
              "      <td>1</td>\n",
              "      <td>1</td>\n",
              "      <td>0</td>\n",
              "      <td>1</td>\n",
              "    </tr>\n",
              "    <tr>\n",
              "      <th>7</th>\n",
              "      <td>9</td>\n",
              "      <td>3</td>\n",
              "      <td>0</td>\n",
              "      <td>1</td>\n",
              "      <td>1</td>\n",
              "      <td>0</td>\n",
              "    </tr>\n",
              "    <tr>\n",
              "      <th>8</th>\n",
              "      <td>11</td>\n",
              "      <td>5</td>\n",
              "      <td>1</td>\n",
              "      <td>0</td>\n",
              "      <td>0</td>\n",
              "      <td>0</td>\n",
              "    </tr>\n",
              "    <tr>\n",
              "      <th>9</th>\n",
              "      <td>16</td>\n",
              "      <td>2</td>\n",
              "      <td>0</td>\n",
              "      <td>1</td>\n",
              "      <td>1</td>\n",
              "      <td>1</td>\n",
              "    </tr>\n",
              "    <tr>\n",
              "      <th>10</th>\n",
              "      <td>13</td>\n",
              "      <td>4</td>\n",
              "      <td>1</td>\n",
              "      <td>1</td>\n",
              "      <td>0</td>\n",
              "      <td>1</td>\n",
              "    </tr>\n",
              "    <tr>\n",
              "      <th>11</th>\n",
              "      <td>8</td>\n",
              "      <td>5</td>\n",
              "      <td>1</td>\n",
              "      <td>1</td>\n",
              "      <td>0</td>\n",
              "      <td>1</td>\n",
              "    </tr>\n",
              "    <tr>\n",
              "      <th>12</th>\n",
              "      <td>11</td>\n",
              "      <td>5</td>\n",
              "      <td>0</td>\n",
              "      <td>0</td>\n",
              "      <td>0</td>\n",
              "      <td>0</td>\n",
              "    </tr>\n",
              "    <tr>\n",
              "      <th>13</th>\n",
              "      <td>14</td>\n",
              "      <td>3</td>\n",
              "      <td>0</td>\n",
              "      <td>0</td>\n",
              "      <td>1</td>\n",
              "      <td>0</td>\n",
              "    </tr>\n",
              "    <tr>\n",
              "      <th>14</th>\n",
              "      <td>9</td>\n",
              "      <td>5</td>\n",
              "      <td>0</td>\n",
              "      <td>0</td>\n",
              "      <td>0</td>\n",
              "      <td>0</td>\n",
              "    </tr>\n",
              "    <tr>\n",
              "      <th>15</th>\n",
              "      <td>8</td>\n",
              "      <td>4</td>\n",
              "      <td>1</td>\n",
              "      <td>1</td>\n",
              "      <td>1</td>\n",
              "      <td>0</td>\n",
              "    </tr>\n",
              "    <tr>\n",
              "      <th>16</th>\n",
              "      <td>11</td>\n",
              "      <td>4</td>\n",
              "      <td>1</td>\n",
              "      <td>1</td>\n",
              "      <td>0</td>\n",
              "      <td>1</td>\n",
              "    </tr>\n",
              "    <tr>\n",
              "      <th>17</th>\n",
              "      <td>12</td>\n",
              "      <td>2</td>\n",
              "      <td>1</td>\n",
              "      <td>1</td>\n",
              "      <td>1</td>\n",
              "      <td>0</td>\n",
              "    </tr>\n",
              "    <tr>\n",
              "      <th>18</th>\n",
              "      <td>11</td>\n",
              "      <td>3</td>\n",
              "      <td>1</td>\n",
              "      <td>0</td>\n",
              "      <td>1</td>\n",
              "      <td>1</td>\n",
              "    </tr>\n",
              "    <tr>\n",
              "      <th>19</th>\n",
              "      <td>13</td>\n",
              "      <td>5</td>\n",
              "      <td>0</td>\n",
              "      <td>0</td>\n",
              "      <td>1</td>\n",
              "      <td>0</td>\n",
              "    </tr>\n",
              "  </tbody>\n",
              "</table>\n",
              "</div>"
            ],
            "text/plain": [
              "    edad  aseo  fiebre_Si  tos_Si  sexo_M  patologia_Positiva\n",
              "0     13     4          1       0       0                   0\n",
              "1      8     5          0       0       0                   0\n",
              "2     12     2          1       1       0                   1\n",
              "3     14     3          0       0       1                   0\n",
              "4     14     5          1       1       0                   1\n",
              "5     10     3          0       0       1                   0\n",
              "6     11     3          1       1       0                   1\n",
              "7      9     3          0       1       1                   0\n",
              "8     11     5          1       0       0                   0\n",
              "9     16     2          0       1       1                   1\n",
              "10    13     4          1       1       0                   1\n",
              "11     8     5          1       1       0                   1\n",
              "12    11     5          0       0       0                   0\n",
              "13    14     3          0       0       1                   0\n",
              "14     9     5          0       0       0                   0\n",
              "15     8     4          1       1       1                   0\n",
              "16    11     4          1       1       0                   1\n",
              "17    12     2          1       1       1                   0\n",
              "18    11     3          1       0       1                   1\n",
              "19    13     5          0       0       1                   0"
            ]
          },
          "metadata": {},
          "execution_count": 52
        }
      ]
    },
    {
      "cell_type": "code",
      "metadata": {
        "id": "vsHIQFEiXf9U"
      },
      "source": [
        "modelo = DecisionTreeClassifier(max_depth=3, random_state=0)"
      ],
      "execution_count": 53,
      "outputs": []
    },
    {
      "cell_type": "code",
      "metadata": {
        "id": "7cRAFqjSfZpn"
      },
      "source": [
        "X = data100.drop(['patologia_Positiva'], axis=1)\n",
        "y = data100.patologia_Positiva"
      ],
      "execution_count": 54,
      "outputs": []
    },
    {
      "cell_type": "code",
      "metadata": {
        "id": "mOYlE9C4dZRi",
        "colab": {
          "base_uri": "https://localhost:8080/"
        },
        "outputId": "2e6ce846-254a-42c8-8d62-f5b0a54bc6f2"
      },
      "source": [
        "modelo.fit(X, y)"
      ],
      "execution_count": 55,
      "outputs": [
        {
          "output_type": "execute_result",
          "data": {
            "text/plain": [
              "DecisionTreeClassifier(ccp_alpha=0.0, class_weight=None, criterion='gini',\n",
              "                       max_depth=3, max_features=None, max_leaf_nodes=None,\n",
              "                       min_impurity_decrease=0.0, min_impurity_split=None,\n",
              "                       min_samples_leaf=1, min_samples_split=2,\n",
              "                       min_weight_fraction_leaf=0.0, presort='deprecated',\n",
              "                       random_state=0, splitter='best')"
            ]
          },
          "metadata": {},
          "execution_count": 55
        }
      ]
    },
    {
      "cell_type": "code",
      "metadata": {
        "id": "Gwn1bxekfvmz",
        "colab": {
          "base_uri": "https://localhost:8080/"
        },
        "outputId": "cba5d82c-d721-4330-8bb4-49f484d7faa4"
      },
      "source": [
        "y_pred = modelo.predict(X)\n",
        "y_pred"
      ],
      "execution_count": 56,
      "outputs": [
        {
          "output_type": "execute_result",
          "data": {
            "text/plain": [
              "array([0, 0, 1, 0, 1, 0, 1, 0, 0, 1, 1, 1, 0, 0, 0, 0, 1, 0, 1, 0],\n",
              "      dtype=uint8)"
            ]
          },
          "metadata": {},
          "execution_count": 56
        }
      ]
    },
    {
      "cell_type": "code",
      "metadata": {
        "id": "-4v_BywCg1OE",
        "colab": {
          "base_uri": "https://localhost:8080/",
          "height": 675
        },
        "outputId": "a04b65bb-d5de-4927-c05c-27fb2a47fba7"
      },
      "source": [
        "data['tipo_pred'] = y_pred\n",
        "data"
      ],
      "execution_count": 57,
      "outputs": [
        {
          "output_type": "execute_result",
          "data": {
            "text/html": [
              "<div>\n",
              "<style scoped>\n",
              "    .dataframe tbody tr th:only-of-type {\n",
              "        vertical-align: middle;\n",
              "    }\n",
              "\n",
              "    .dataframe tbody tr th {\n",
              "        vertical-align: top;\n",
              "    }\n",
              "\n",
              "    .dataframe thead th {\n",
              "        text-align: right;\n",
              "    }\n",
              "</style>\n",
              "<table border=\"1\" class=\"dataframe\">\n",
              "  <thead>\n",
              "    <tr style=\"text-align: right;\">\n",
              "      <th></th>\n",
              "      <th>fiebre</th>\n",
              "      <th>tos</th>\n",
              "      <th>edad</th>\n",
              "      <th>aseo</th>\n",
              "      <th>sexo</th>\n",
              "      <th>patologia</th>\n",
              "      <th>tipo_pred</th>\n",
              "    </tr>\n",
              "  </thead>\n",
              "  <tbody>\n",
              "    <tr>\n",
              "      <th>0</th>\n",
              "      <td>Si</td>\n",
              "      <td>No</td>\n",
              "      <td>13</td>\n",
              "      <td>4</td>\n",
              "      <td>F</td>\n",
              "      <td>Negativa</td>\n",
              "      <td>0</td>\n",
              "    </tr>\n",
              "    <tr>\n",
              "      <th>1</th>\n",
              "      <td>No</td>\n",
              "      <td>No</td>\n",
              "      <td>8</td>\n",
              "      <td>5</td>\n",
              "      <td>F</td>\n",
              "      <td>Negativa</td>\n",
              "      <td>0</td>\n",
              "    </tr>\n",
              "    <tr>\n",
              "      <th>2</th>\n",
              "      <td>Si</td>\n",
              "      <td>Si</td>\n",
              "      <td>12</td>\n",
              "      <td>2</td>\n",
              "      <td>F</td>\n",
              "      <td>Positiva</td>\n",
              "      <td>1</td>\n",
              "    </tr>\n",
              "    <tr>\n",
              "      <th>3</th>\n",
              "      <td>No</td>\n",
              "      <td>No</td>\n",
              "      <td>14</td>\n",
              "      <td>3</td>\n",
              "      <td>M</td>\n",
              "      <td>Negativa</td>\n",
              "      <td>0</td>\n",
              "    </tr>\n",
              "    <tr>\n",
              "      <th>4</th>\n",
              "      <td>Si</td>\n",
              "      <td>Si</td>\n",
              "      <td>14</td>\n",
              "      <td>5</td>\n",
              "      <td>F</td>\n",
              "      <td>Positiva</td>\n",
              "      <td>1</td>\n",
              "    </tr>\n",
              "    <tr>\n",
              "      <th>5</th>\n",
              "      <td>No</td>\n",
              "      <td>No</td>\n",
              "      <td>10</td>\n",
              "      <td>3</td>\n",
              "      <td>M</td>\n",
              "      <td>Negativa</td>\n",
              "      <td>0</td>\n",
              "    </tr>\n",
              "    <tr>\n",
              "      <th>6</th>\n",
              "      <td>Si</td>\n",
              "      <td>Si</td>\n",
              "      <td>11</td>\n",
              "      <td>3</td>\n",
              "      <td>F</td>\n",
              "      <td>Positiva</td>\n",
              "      <td>1</td>\n",
              "    </tr>\n",
              "    <tr>\n",
              "      <th>7</th>\n",
              "      <td>No</td>\n",
              "      <td>Si</td>\n",
              "      <td>9</td>\n",
              "      <td>3</td>\n",
              "      <td>M</td>\n",
              "      <td>Negativa</td>\n",
              "      <td>0</td>\n",
              "    </tr>\n",
              "    <tr>\n",
              "      <th>8</th>\n",
              "      <td>Si</td>\n",
              "      <td>No</td>\n",
              "      <td>11</td>\n",
              "      <td>5</td>\n",
              "      <td>F</td>\n",
              "      <td>Negativa</td>\n",
              "      <td>0</td>\n",
              "    </tr>\n",
              "    <tr>\n",
              "      <th>9</th>\n",
              "      <td>No</td>\n",
              "      <td>Si</td>\n",
              "      <td>16</td>\n",
              "      <td>2</td>\n",
              "      <td>M</td>\n",
              "      <td>Positiva</td>\n",
              "      <td>1</td>\n",
              "    </tr>\n",
              "    <tr>\n",
              "      <th>10</th>\n",
              "      <td>Si</td>\n",
              "      <td>Si</td>\n",
              "      <td>13</td>\n",
              "      <td>4</td>\n",
              "      <td>F</td>\n",
              "      <td>Positiva</td>\n",
              "      <td>1</td>\n",
              "    </tr>\n",
              "    <tr>\n",
              "      <th>11</th>\n",
              "      <td>Si</td>\n",
              "      <td>Si</td>\n",
              "      <td>8</td>\n",
              "      <td>5</td>\n",
              "      <td>F</td>\n",
              "      <td>Positiva</td>\n",
              "      <td>1</td>\n",
              "    </tr>\n",
              "    <tr>\n",
              "      <th>12</th>\n",
              "      <td>No</td>\n",
              "      <td>No</td>\n",
              "      <td>11</td>\n",
              "      <td>5</td>\n",
              "      <td>F</td>\n",
              "      <td>Negativa</td>\n",
              "      <td>0</td>\n",
              "    </tr>\n",
              "    <tr>\n",
              "      <th>13</th>\n",
              "      <td>No</td>\n",
              "      <td>No</td>\n",
              "      <td>14</td>\n",
              "      <td>3</td>\n",
              "      <td>M</td>\n",
              "      <td>Negativa</td>\n",
              "      <td>0</td>\n",
              "    </tr>\n",
              "    <tr>\n",
              "      <th>14</th>\n",
              "      <td>No</td>\n",
              "      <td>No</td>\n",
              "      <td>9</td>\n",
              "      <td>5</td>\n",
              "      <td>F</td>\n",
              "      <td>Negativa</td>\n",
              "      <td>0</td>\n",
              "    </tr>\n",
              "    <tr>\n",
              "      <th>15</th>\n",
              "      <td>Si</td>\n",
              "      <td>Si</td>\n",
              "      <td>8</td>\n",
              "      <td>4</td>\n",
              "      <td>M</td>\n",
              "      <td>Negativa</td>\n",
              "      <td>0</td>\n",
              "    </tr>\n",
              "    <tr>\n",
              "      <th>16</th>\n",
              "      <td>Si</td>\n",
              "      <td>Si</td>\n",
              "      <td>11</td>\n",
              "      <td>4</td>\n",
              "      <td>F</td>\n",
              "      <td>Positiva</td>\n",
              "      <td>1</td>\n",
              "    </tr>\n",
              "    <tr>\n",
              "      <th>17</th>\n",
              "      <td>Si</td>\n",
              "      <td>Si</td>\n",
              "      <td>12</td>\n",
              "      <td>2</td>\n",
              "      <td>M</td>\n",
              "      <td>Negativa</td>\n",
              "      <td>0</td>\n",
              "    </tr>\n",
              "    <tr>\n",
              "      <th>18</th>\n",
              "      <td>Si</td>\n",
              "      <td>No</td>\n",
              "      <td>11</td>\n",
              "      <td>3</td>\n",
              "      <td>M</td>\n",
              "      <td>Positiva</td>\n",
              "      <td>1</td>\n",
              "    </tr>\n",
              "    <tr>\n",
              "      <th>19</th>\n",
              "      <td>No</td>\n",
              "      <td>No</td>\n",
              "      <td>13</td>\n",
              "      <td>5</td>\n",
              "      <td>M</td>\n",
              "      <td>Negativa</td>\n",
              "      <td>0</td>\n",
              "    </tr>\n",
              "  </tbody>\n",
              "</table>\n",
              "</div>"
            ],
            "text/plain": [
              "   fiebre tos  edad  aseo sexo patologia  tipo_pred\n",
              "0      Si  No    13     4    F  Negativa          0\n",
              "1      No  No     8     5    F  Negativa          0\n",
              "2      Si  Si    12     2    F  Positiva          1\n",
              "3      No  No    14     3    M  Negativa          0\n",
              "4      Si  Si    14     5    F  Positiva          1\n",
              "5      No  No    10     3    M  Negativa          0\n",
              "6      Si  Si    11     3    F  Positiva          1\n",
              "7      No  Si     9     3    M  Negativa          0\n",
              "8      Si  No    11     5    F  Negativa          0\n",
              "9      No  Si    16     2    M  Positiva          1\n",
              "10     Si  Si    13     4    F  Positiva          1\n",
              "11     Si  Si     8     5    F  Positiva          1\n",
              "12     No  No    11     5    F  Negativa          0\n",
              "13     No  No    14     3    M  Negativa          0\n",
              "14     No  No     9     5    F  Negativa          0\n",
              "15     Si  Si     8     4    M  Negativa          0\n",
              "16     Si  Si    11     4    F  Positiva          1\n",
              "17     Si  Si    12     2    M  Negativa          0\n",
              "18     Si  No    11     3    M  Positiva          1\n",
              "19     No  No    13     5    M  Negativa          0"
            ]
          },
          "metadata": {},
          "execution_count": 57
        }
      ]
    },
    {
      "cell_type": "code",
      "metadata": {
        "id": "IGfxmB_wkjJD",
        "colab": {
          "base_uri": "https://localhost:8080/",
          "height": 575
        },
        "outputId": "8d31bff0-6d4b-4e6f-f9b3-a8ba862402e2"
      },
      "source": [
        "from sklearn.tree import plot_tree\n",
        "plt.figure(figsize=(18,10))\n",
        "plot_tree(modelo, rounded=True, fontsize=11, label='all', filled=True, feature_names=X.columns)\n",
        "plt.show()"
      ],
      "execution_count": 58,
      "outputs": [
        {
          "output_type": "display_data",
          "data": {
            "image/png": "[encoded data removed]",
            "text/plain": [
              "<Figure size 1296x720 with 1 Axes>"
            ]
          },
          "metadata": {
            "needs_background": "light"
          }
        }
      ]
    },
    {
      "cell_type": "code",
      "metadata": {
        "id": "agZiM4ZUlKjv",
        "colab": {
          "base_uri": "https://localhost:8080/",
          "height": 205
        },
        "outputId": "d0d81ba3-b3cd-438d-800e-a8b9f1772f63"
      },
      "source": [
        "X.head()"
      ],
      "execution_count": 59,
      "outputs": [
        {
          "output_type": "execute_result",
          "data": {
            "text/html": [
              "<div>\n",
              "<style scoped>\n",
              "    .dataframe tbody tr th:only-of-type {\n",
              "        vertical-align: middle;\n",
              "    }\n",
              "\n",
              "    .dataframe tbody tr th {\n",
              "        vertical-align: top;\n",
              "    }\n",
              "\n",
              "    .dataframe thead th {\n",
              "        text-align: right;\n",
              "    }\n",
              "</style>\n",
              "<table border=\"1\" class=\"dataframe\">\n",
              "  <thead>\n",
              "    <tr style=\"text-align: right;\">\n",
              "      <th></th>\n",
              "      <th>edad</th>\n",
              "      <th>aseo</th>\n",
              "      <th>fiebre_Si</th>\n",
              "      <th>tos_Si</th>\n",
              "      <th>sexo_M</th>\n",
              "    </tr>\n",
              "  </thead>\n",
              "  <tbody>\n",
              "    <tr>\n",
              "      <th>0</th>\n",
              "      <td>13</td>\n",
              "      <td>4</td>\n",
              "      <td>1</td>\n",
              "      <td>0</td>\n",
              "      <td>0</td>\n",
              "    </tr>\n",
              "    <tr>\n",
              "      <th>1</th>\n",
              "      <td>8</td>\n",
              "      <td>5</td>\n",
              "      <td>0</td>\n",
              "      <td>0</td>\n",
              "      <td>0</td>\n",
              "    </tr>\n",
              "    <tr>\n",
              "      <th>2</th>\n",
              "      <td>12</td>\n",
              "      <td>2</td>\n",
              "      <td>1</td>\n",
              "      <td>1</td>\n",
              "      <td>0</td>\n",
              "    </tr>\n",
              "    <tr>\n",
              "      <th>3</th>\n",
              "      <td>14</td>\n",
              "      <td>3</td>\n",
              "      <td>0</td>\n",
              "      <td>0</td>\n",
              "      <td>1</td>\n",
              "    </tr>\n",
              "    <tr>\n",
              "      <th>4</th>\n",
              "      <td>14</td>\n",
              "      <td>5</td>\n",
              "      <td>1</td>\n",
              "      <td>1</td>\n",
              "      <td>0</td>\n",
              "    </tr>\n",
              "  </tbody>\n",
              "</table>\n",
              "</div>"
            ],
            "text/plain": [
              "   edad  aseo  fiebre_Si  tos_Si  sexo_M\n",
              "0    13     4          1       0       0\n",
              "1     8     5          0       0       0\n",
              "2    12     2          1       1       0\n",
              "3    14     3          0       0       1\n",
              "4    14     5          1       1       0"
            ]
          },
          "metadata": {},
          "execution_count": 59
        }
      ]
    },
    {
      "cell_type": "markdown",
      "metadata": {
        "id": "d9an8Yaq397d"
      },
      "source": [
        "## Ejemplo\n",
        "* Digamos que llega una declaración de un adulto masculino de 40 años a las 5 de la mañana registrado por un efectivo en la calle.\n",
        "* También una mujer de 65 años declara de manera personal en una comisaría hacia las 4pm.\n"
      ]
    },
    {
      "cell_type": "code",
      "metadata": {
        "id": "weacdVFN4Sus",
        "colab": {
          "base_uri": "https://localhost:8080/"
        },
        "outputId": "6a453b70-8e2a-4792-b02d-61b070ce3573"
      },
      "source": [
        "X_ts = np.array([\n",
        "                 [11, 2, 1, 1, 0], \n",
        "                 [11, 2, 1, 1, 1]\n",
        "                 ])\n",
        "X_ts"
      ],
      "execution_count": 62,
      "outputs": [
        {
          "output_type": "execute_result",
          "data": {
            "text/plain": [
              "array([[11,  2,  1,  1,  0],\n",
              "       [11,  2,  1,  1,  1]])"
            ]
          },
          "metadata": {},
          "execution_count": 62
        }
      ]
    },
    {
      "cell_type": "code",
      "metadata": {
        "id": "nSVVDrQ237eo",
        "colab": {
          "base_uri": "https://localhost:8080/"
        },
        "outputId": "f338bf91-eea2-4286-cdda-1e4a058f2db4"
      },
      "source": [
        "y_ts = modelo.predict(X_ts)\n",
        "y_ts"
      ],
      "execution_count": 63,
      "outputs": [
        {
          "output_type": "execute_result",
          "data": {
            "text/plain": [
              "array([1, 0], dtype=uint8)"
            ]
          },
          "metadata": {},
          "execution_count": 63
        }
      ]
    }
  ]
}